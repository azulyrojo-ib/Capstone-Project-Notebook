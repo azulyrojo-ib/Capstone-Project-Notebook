{
    "nbformat_minor": 1, 
    "cells": [
        {
            "source": "import numpy as np \nimport pandas as pd \npd.set_option('display.max_columns', None)\npd.set_option('display.max_rows', None)\nimport json \nimport requests \nfrom pandas.io.json import json_normalize \nimport matplotlib.cm as cm\nimport matplotlib.colors as colors\nfrom sklearn.cluster import KMeans\nfrom bs4 import BeautifulSoup\nimport requests\nimport csv\n", 
            "cell_type": "code", 
            "metadata": {}, 
            "outputs": [], 
            "execution_count": 22
        }, 
        {
            "source": "source = requests.get('https://en.wikipedia.org/wiki/List_of_postal_codes_of_Canada:_M').text\n\ntsoup = BeautifulSoup(source,'lxml')\n\ntablesoup = tsoup.find('table', class_ = 'wikitable sortable')\n\ntoronto_csv = open('toronto_neighborhood.csv', 'w')\ncsv_writer = csv.writer(toronto_csv)\n\nfor tr in tablesoup.find_all('tr'):\n\n    Postcode = tr.find_all(['td','th'])[0].text\n    Borough = tr.find_all(['td','th'])[1].text\n    Neighbourhood = tr.find_all(['td','th'])[2].text\n    if Borough != 'Not assigned':csv_writer.writerow([Postcode,Borough,Neighbourhood])\n        \ntoronto_csv.close()", 
            "cell_type": "code", 
            "metadata": {}, 
            "outputs": [], 
            "execution_count": 28
        }, 
        {
            "source": "df_t=pd.read_csv('toronto_neighborhood.csv')", 
            "cell_type": "code", 
            "metadata": {}, 
            "outputs": [], 
            "execution_count": 29
        }, 
        {
            "source": "df_t.head(30)", 
            "cell_type": "code", 
            "metadata": {}, 
            "outputs": [
                {
                    "output_type": "execute_result", 
                    "data": {
                        "text/html": "<div>\n<style scoped>\n    .dataframe tbody tr th:only-of-type {\n        vertical-align: middle;\n    }\n\n    .dataframe tbody tr th {\n        vertical-align: top;\n    }\n\n    .dataframe thead th {\n        text-align: right;\n    }\n</style>\n<table border=\"1\" class=\"dataframe\">\n  <thead>\n    <tr style=\"text-align: right;\">\n      <th></th>\n      <th>Postcode</th>\n      <th>Borough</th>\n      <th>Neighbourhood</th>\n    </tr>\n  </thead>\n  <tbody>\n    <tr>\n      <th>0</th>\n      <td>M3A</td>\n      <td>North York</td>\n      <td>Parkwoods\\n</td>\n    </tr>\n    <tr>\n      <th>1</th>\n      <td>M4A</td>\n      <td>North York</td>\n      <td>Victoria Village\\n</td>\n    </tr>\n    <tr>\n      <th>2</th>\n      <td>M5A</td>\n      <td>Downtown Toronto</td>\n      <td>Harbourfront\\n</td>\n    </tr>\n    <tr>\n      <th>3</th>\n      <td>M5A</td>\n      <td>Downtown Toronto</td>\n      <td>Regent Park\\n</td>\n    </tr>\n    <tr>\n      <th>4</th>\n      <td>M6A</td>\n      <td>North York</td>\n      <td>Lawrence Heights\\n</td>\n    </tr>\n    <tr>\n      <th>5</th>\n      <td>M6A</td>\n      <td>North York</td>\n      <td>Lawrence Manor\\n</td>\n    </tr>\n    <tr>\n      <th>6</th>\n      <td>M7A</td>\n      <td>Queen's Park</td>\n      <td>Not assigned\\n</td>\n    </tr>\n    <tr>\n      <th>7</th>\n      <td>M9A</td>\n      <td>Etobicoke</td>\n      <td>Islington Avenue\\n</td>\n    </tr>\n    <tr>\n      <th>8</th>\n      <td>M1B</td>\n      <td>Scarborough</td>\n      <td>Rouge\\n</td>\n    </tr>\n    <tr>\n      <th>9</th>\n      <td>M1B</td>\n      <td>Scarborough</td>\n      <td>Malvern\\n</td>\n    </tr>\n    <tr>\n      <th>10</th>\n      <td>M3B</td>\n      <td>North York</td>\n      <td>Don Mills North\\n</td>\n    </tr>\n    <tr>\n      <th>11</th>\n      <td>M4B</td>\n      <td>East York</td>\n      <td>Woodbine Gardens\\n</td>\n    </tr>\n    <tr>\n      <th>12</th>\n      <td>M4B</td>\n      <td>East York</td>\n      <td>Parkview Hill\\n</td>\n    </tr>\n    <tr>\n      <th>13</th>\n      <td>M5B</td>\n      <td>Downtown Toronto</td>\n      <td>Ryerson\\n</td>\n    </tr>\n    <tr>\n      <th>14</th>\n      <td>M5B</td>\n      <td>Downtown Toronto</td>\n      <td>Garden District\\n</td>\n    </tr>\n    <tr>\n      <th>15</th>\n      <td>M6B</td>\n      <td>North York</td>\n      <td>Glencairn\\n</td>\n    </tr>\n    <tr>\n      <th>16</th>\n      <td>M9B</td>\n      <td>Etobicoke</td>\n      <td>Cloverdale\\n</td>\n    </tr>\n    <tr>\n      <th>17</th>\n      <td>M9B</td>\n      <td>Etobicoke</td>\n      <td>Islington\\n</td>\n    </tr>\n    <tr>\n      <th>18</th>\n      <td>M9B</td>\n      <td>Etobicoke</td>\n      <td>Martin Grove\\n</td>\n    </tr>\n    <tr>\n      <th>19</th>\n      <td>M9B</td>\n      <td>Etobicoke</td>\n      <td>Princess Gardens\\n</td>\n    </tr>\n    <tr>\n      <th>20</th>\n      <td>M9B</td>\n      <td>Etobicoke</td>\n      <td>West Deane Park\\n</td>\n    </tr>\n    <tr>\n      <th>21</th>\n      <td>M1C</td>\n      <td>Scarborough</td>\n      <td>Highland Creek\\n</td>\n    </tr>\n    <tr>\n      <th>22</th>\n      <td>M1C</td>\n      <td>Scarborough</td>\n      <td>Rouge Hill\\n</td>\n    </tr>\n    <tr>\n      <th>23</th>\n      <td>M1C</td>\n      <td>Scarborough</td>\n      <td>Port Union\\n</td>\n    </tr>\n    <tr>\n      <th>24</th>\n      <td>M3C</td>\n      <td>North York</td>\n      <td>Flemingdon Park\\n</td>\n    </tr>\n    <tr>\n      <th>25</th>\n      <td>M3C</td>\n      <td>North York</td>\n      <td>Don Mills South\\n</td>\n    </tr>\n    <tr>\n      <th>26</th>\n      <td>M4C</td>\n      <td>East York</td>\n      <td>Woodbine Heights\\n</td>\n    </tr>\n    <tr>\n      <th>27</th>\n      <td>M5C</td>\n      <td>Downtown Toronto</td>\n      <td>St. James Town\\n</td>\n    </tr>\n    <tr>\n      <th>28</th>\n      <td>M6C</td>\n      <td>York</td>\n      <td>Humewood-Cedarvale\\n</td>\n    </tr>\n    <tr>\n      <th>29</th>\n      <td>M9C</td>\n      <td>Etobicoke</td>\n      <td>Bloordale Gardens\\n</td>\n    </tr>\n  </tbody>\n</table>\n</div>", 
                        "text/plain": "   Postcode           Borough       Neighbourhood\\n\n0       M3A        North York           Parkwoods\\n\n1       M4A        North York    Victoria Village\\n\n2       M5A  Downtown Toronto        Harbourfront\\n\n3       M5A  Downtown Toronto         Regent Park\\n\n4       M6A        North York    Lawrence Heights\\n\n5       M6A        North York      Lawrence Manor\\n\n6       M7A      Queen's Park        Not assigned\\n\n7       M9A         Etobicoke    Islington Avenue\\n\n8       M1B       Scarborough               Rouge\\n\n9       M1B       Scarborough             Malvern\\n\n10      M3B        North York     Don Mills North\\n\n11      M4B         East York    Woodbine Gardens\\n\n12      M4B         East York       Parkview Hill\\n\n13      M5B  Downtown Toronto             Ryerson\\n\n14      M5B  Downtown Toronto     Garden District\\n\n15      M6B        North York           Glencairn\\n\n16      M9B         Etobicoke          Cloverdale\\n\n17      M9B         Etobicoke           Islington\\n\n18      M9B         Etobicoke        Martin Grove\\n\n19      M9B         Etobicoke    Princess Gardens\\n\n20      M9B         Etobicoke     West Deane Park\\n\n21      M1C       Scarborough      Highland Creek\\n\n22      M1C       Scarborough          Rouge Hill\\n\n23      M1C       Scarborough          Port Union\\n\n24      M3C        North York     Flemingdon Park\\n\n25      M3C        North York     Don Mills South\\n\n26      M4C         East York    Woodbine Heights\\n\n27      M5C  Downtown Toronto      St. James Town\\n\n28      M6C              York  Humewood-Cedarvale\\n\n29      M9C         Etobicoke   Bloordale Gardens\\n"
                    }, 
                    "execution_count": 32, 
                    "metadata": {}
                }
            ], 
            "execution_count": 32
        }, 
        {
            "source": "df_t = df_t.replace('\\n','', regex=True)\ndf_t.columns=['Postalcode','Borough','Neighborhood']\ndf_t.head(30)", 
            "cell_type": "code", 
            "metadata": {}, 
            "outputs": [
                {
                    "output_type": "execute_result", 
                    "data": {
                        "text/html": "<div>\n<style scoped>\n    .dataframe tbody tr th:only-of-type {\n        vertical-align: middle;\n    }\n\n    .dataframe tbody tr th {\n        vertical-align: top;\n    }\n\n    .dataframe thead th {\n        text-align: right;\n    }\n</style>\n<table border=\"1\" class=\"dataframe\">\n  <thead>\n    <tr style=\"text-align: right;\">\n      <th></th>\n      <th>Postalcode</th>\n      <th>Borough</th>\n      <th>Neighborhood</th>\n    </tr>\n  </thead>\n  <tbody>\n    <tr>\n      <th>0</th>\n      <td>M3A</td>\n      <td>North York</td>\n      <td>Parkwoods</td>\n    </tr>\n    <tr>\n      <th>1</th>\n      <td>M4A</td>\n      <td>North York</td>\n      <td>Victoria Village</td>\n    </tr>\n    <tr>\n      <th>2</th>\n      <td>M5A</td>\n      <td>Downtown Toronto</td>\n      <td>Harbourfront</td>\n    </tr>\n    <tr>\n      <th>3</th>\n      <td>M5A</td>\n      <td>Downtown Toronto</td>\n      <td>Regent Park</td>\n    </tr>\n    <tr>\n      <th>4</th>\n      <td>M6A</td>\n      <td>North York</td>\n      <td>Lawrence Heights</td>\n    </tr>\n    <tr>\n      <th>5</th>\n      <td>M6A</td>\n      <td>North York</td>\n      <td>Lawrence Manor</td>\n    </tr>\n    <tr>\n      <th>6</th>\n      <td>M7A</td>\n      <td>Queen's Park</td>\n      <td>Not assigned</td>\n    </tr>\n    <tr>\n      <th>7</th>\n      <td>M9A</td>\n      <td>Etobicoke</td>\n      <td>Islington Avenue</td>\n    </tr>\n    <tr>\n      <th>8</th>\n      <td>M1B</td>\n      <td>Scarborough</td>\n      <td>Rouge</td>\n    </tr>\n    <tr>\n      <th>9</th>\n      <td>M1B</td>\n      <td>Scarborough</td>\n      <td>Malvern</td>\n    </tr>\n    <tr>\n      <th>10</th>\n      <td>M3B</td>\n      <td>North York</td>\n      <td>Don Mills North</td>\n    </tr>\n    <tr>\n      <th>11</th>\n      <td>M4B</td>\n      <td>East York</td>\n      <td>Woodbine Gardens</td>\n    </tr>\n    <tr>\n      <th>12</th>\n      <td>M4B</td>\n      <td>East York</td>\n      <td>Parkview Hill</td>\n    </tr>\n    <tr>\n      <th>13</th>\n      <td>M5B</td>\n      <td>Downtown Toronto</td>\n      <td>Ryerson</td>\n    </tr>\n    <tr>\n      <th>14</th>\n      <td>M5B</td>\n      <td>Downtown Toronto</td>\n      <td>Garden District</td>\n    </tr>\n    <tr>\n      <th>15</th>\n      <td>M6B</td>\n      <td>North York</td>\n      <td>Glencairn</td>\n    </tr>\n    <tr>\n      <th>16</th>\n      <td>M9B</td>\n      <td>Etobicoke</td>\n      <td>Cloverdale</td>\n    </tr>\n    <tr>\n      <th>17</th>\n      <td>M9B</td>\n      <td>Etobicoke</td>\n      <td>Islington</td>\n    </tr>\n    <tr>\n      <th>18</th>\n      <td>M9B</td>\n      <td>Etobicoke</td>\n      <td>Martin Grove</td>\n    </tr>\n    <tr>\n      <th>19</th>\n      <td>M9B</td>\n      <td>Etobicoke</td>\n      <td>Princess Gardens</td>\n    </tr>\n    <tr>\n      <th>20</th>\n      <td>M9B</td>\n      <td>Etobicoke</td>\n      <td>West Deane Park</td>\n    </tr>\n    <tr>\n      <th>21</th>\n      <td>M1C</td>\n      <td>Scarborough</td>\n      <td>Highland Creek</td>\n    </tr>\n    <tr>\n      <th>22</th>\n      <td>M1C</td>\n      <td>Scarborough</td>\n      <td>Rouge Hill</td>\n    </tr>\n    <tr>\n      <th>23</th>\n      <td>M1C</td>\n      <td>Scarborough</td>\n      <td>Port Union</td>\n    </tr>\n    <tr>\n      <th>24</th>\n      <td>M3C</td>\n      <td>North York</td>\n      <td>Flemingdon Park</td>\n    </tr>\n    <tr>\n      <th>25</th>\n      <td>M3C</td>\n      <td>North York</td>\n      <td>Don Mills South</td>\n    </tr>\n    <tr>\n      <th>26</th>\n      <td>M4C</td>\n      <td>East York</td>\n      <td>Woodbine Heights</td>\n    </tr>\n    <tr>\n      <th>27</th>\n      <td>M5C</td>\n      <td>Downtown Toronto</td>\n      <td>St. James Town</td>\n    </tr>\n    <tr>\n      <th>28</th>\n      <td>M6C</td>\n      <td>York</td>\n      <td>Humewood-Cedarvale</td>\n    </tr>\n    <tr>\n      <th>29</th>\n      <td>M9C</td>\n      <td>Etobicoke</td>\n      <td>Bloordale Gardens</td>\n    </tr>\n  </tbody>\n</table>\n</div>", 
                        "text/plain": "   Postalcode           Borough        Neighborhood\n0         M3A        North York           Parkwoods\n1         M4A        North York    Victoria Village\n2         M5A  Downtown Toronto        Harbourfront\n3         M5A  Downtown Toronto         Regent Park\n4         M6A        North York    Lawrence Heights\n5         M6A        North York      Lawrence Manor\n6         M7A      Queen's Park        Not assigned\n7         M9A         Etobicoke    Islington Avenue\n8         M1B       Scarborough               Rouge\n9         M1B       Scarborough             Malvern\n10        M3B        North York     Don Mills North\n11        M4B         East York    Woodbine Gardens\n12        M4B         East York       Parkview Hill\n13        M5B  Downtown Toronto             Ryerson\n14        M5B  Downtown Toronto     Garden District\n15        M6B        North York           Glencairn\n16        M9B         Etobicoke          Cloverdale\n17        M9B         Etobicoke           Islington\n18        M9B         Etobicoke        Martin Grove\n19        M9B         Etobicoke    Princess Gardens\n20        M9B         Etobicoke     West Deane Park\n21        M1C       Scarborough      Highland Creek\n22        M1C       Scarborough          Rouge Hill\n23        M1C       Scarborough          Port Union\n24        M3C        North York     Flemingdon Park\n25        M3C        North York     Don Mills South\n26        M4C         East York    Woodbine Heights\n27        M5C  Downtown Toronto      St. James Town\n28        M6C              York  Humewood-Cedarvale\n29        M9C         Etobicoke   Bloordale Gardens"
                    }, 
                    "execution_count": 33, 
                    "metadata": {}
                }
            ], 
            "execution_count": 33
        }, 
        {
            "source": "for index, row in df_t.iterrows():\n    if df_t.loc[index,'Neighborhood'] == 'Not assigned':\n        df_t.loc[index,'Neighborhood'] = df_t.loc[index,'Borough']\n\n# Check to make sure there is no 'Not assigned' in Neighborhood column\ndf_t.loc[df_t['Neighborhood'] == 'Not assigned']", 
            "cell_type": "code", 
            "metadata": {}, 
            "outputs": [
                {
                    "output_type": "execute_result", 
                    "data": {
                        "text/html": "<div>\n<style scoped>\n    .dataframe tbody tr th:only-of-type {\n        vertical-align: middle;\n    }\n\n    .dataframe tbody tr th {\n        vertical-align: top;\n    }\n\n    .dataframe thead th {\n        text-align: right;\n    }\n</style>\n<table border=\"1\" class=\"dataframe\">\n  <thead>\n    <tr style=\"text-align: right;\">\n      <th></th>\n      <th>Postalcode</th>\n      <th>Borough</th>\n      <th>Neighborhood</th>\n    </tr>\n  </thead>\n  <tbody>\n  </tbody>\n</table>\n</div>", 
                        "text/plain": "Empty DataFrame\nColumns: [Postalcode, Borough, Neighborhood]\nIndex: []"
                    }, 
                    "execution_count": 19, 
                    "metadata": {}
                }
            ], 
            "execution_count": 19
        }, 
        {
            "source": "grouped = df_t.groupby(['Postalcode','Borough'])['Neighborhood'].apply(', '.join)\n\ngroupedDF = grouped.to_frame().reset_index()\n\ngroupedDF.head(30)", 
            "cell_type": "code", 
            "metadata": {}, 
            "outputs": [
                {
                    "output_type": "execute_result", 
                    "data": {
                        "text/html": "<div>\n<style scoped>\n    .dataframe tbody tr th:only-of-type {\n        vertical-align: middle;\n    }\n\n    .dataframe tbody tr th {\n        vertical-align: top;\n    }\n\n    .dataframe thead th {\n        text-align: right;\n    }\n</style>\n<table border=\"1\" class=\"dataframe\">\n  <thead>\n    <tr style=\"text-align: right;\">\n      <th></th>\n      <th>Postalcode</th>\n      <th>Borough</th>\n      <th>Neighborhood</th>\n    </tr>\n  </thead>\n  <tbody>\n    <tr>\n      <th>0</th>\n      <td>M1B</td>\n      <td>Scarborough</td>\n      <td>Rouge, Malvern</td>\n    </tr>\n    <tr>\n      <th>1</th>\n      <td>M1C</td>\n      <td>Scarborough</td>\n      <td>Highland Creek, Rouge Hill, Port Union</td>\n    </tr>\n    <tr>\n      <th>2</th>\n      <td>M1E</td>\n      <td>Scarborough</td>\n      <td>Guildwood, Morningside, West Hill</td>\n    </tr>\n    <tr>\n      <th>3</th>\n      <td>M1G</td>\n      <td>Scarborough</td>\n      <td>Woburn</td>\n    </tr>\n    <tr>\n      <th>4</th>\n      <td>M1H</td>\n      <td>Scarborough</td>\n      <td>Cedarbrae</td>\n    </tr>\n    <tr>\n      <th>5</th>\n      <td>M1J</td>\n      <td>Scarborough</td>\n      <td>Scarborough Village</td>\n    </tr>\n    <tr>\n      <th>6</th>\n      <td>M1K</td>\n      <td>Scarborough</td>\n      <td>East Birchmount Park, Ionview, Kennedy Park</td>\n    </tr>\n    <tr>\n      <th>7</th>\n      <td>M1L</td>\n      <td>Scarborough</td>\n      <td>Clairlea, Golden Mile, Oakridge</td>\n    </tr>\n    <tr>\n      <th>8</th>\n      <td>M1M</td>\n      <td>Scarborough</td>\n      <td>Cliffcrest, Cliffside, Scarborough Village West</td>\n    </tr>\n    <tr>\n      <th>9</th>\n      <td>M1N</td>\n      <td>Scarborough</td>\n      <td>Birch Cliff, Cliffside West</td>\n    </tr>\n    <tr>\n      <th>10</th>\n      <td>M1P</td>\n      <td>Scarborough</td>\n      <td>Dorset Park, Scarborough Town Centre, Wexford ...</td>\n    </tr>\n    <tr>\n      <th>11</th>\n      <td>M1R</td>\n      <td>Scarborough</td>\n      <td>Maryvale, Wexford</td>\n    </tr>\n    <tr>\n      <th>12</th>\n      <td>M1S</td>\n      <td>Scarborough</td>\n      <td>Agincourt</td>\n    </tr>\n    <tr>\n      <th>13</th>\n      <td>M1T</td>\n      <td>Scarborough</td>\n      <td>Clarks Corners, Sullivan, Tam O'Shanter</td>\n    </tr>\n    <tr>\n      <th>14</th>\n      <td>M1V</td>\n      <td>Scarborough</td>\n      <td>Agincourt North, L'Amoreaux East, Milliken, St...</td>\n    </tr>\n    <tr>\n      <th>15</th>\n      <td>M1W</td>\n      <td>Scarborough</td>\n      <td>L'Amoreaux West, Steeles West</td>\n    </tr>\n    <tr>\n      <th>16</th>\n      <td>M1X</td>\n      <td>Scarborough</td>\n      <td>Upper Rouge</td>\n    </tr>\n    <tr>\n      <th>17</th>\n      <td>M2H</td>\n      <td>North York</td>\n      <td>Hillcrest Village</td>\n    </tr>\n    <tr>\n      <th>18</th>\n      <td>M2J</td>\n      <td>North York</td>\n      <td>Fairview, Henry Farm, Oriole</td>\n    </tr>\n    <tr>\n      <th>19</th>\n      <td>M2K</td>\n      <td>North York</td>\n      <td>Bayview Village</td>\n    </tr>\n    <tr>\n      <th>20</th>\n      <td>M2L</td>\n      <td>North York</td>\n      <td>Silver Hills, York Mills</td>\n    </tr>\n    <tr>\n      <th>21</th>\n      <td>M2M</td>\n      <td>North York</td>\n      <td>Newtonbrook, Willowdale</td>\n    </tr>\n    <tr>\n      <th>22</th>\n      <td>M2N</td>\n      <td>North York</td>\n      <td>Willowdale South</td>\n    </tr>\n    <tr>\n      <th>23</th>\n      <td>M2P</td>\n      <td>North York</td>\n      <td>York Mills West</td>\n    </tr>\n    <tr>\n      <th>24</th>\n      <td>M2R</td>\n      <td>North York</td>\n      <td>Willowdale West</td>\n    </tr>\n    <tr>\n      <th>25</th>\n      <td>M3A</td>\n      <td>North York</td>\n      <td>Parkwoods</td>\n    </tr>\n    <tr>\n      <th>26</th>\n      <td>M3B</td>\n      <td>North York</td>\n      <td>Don Mills North</td>\n    </tr>\n    <tr>\n      <th>27</th>\n      <td>M3C</td>\n      <td>North York</td>\n      <td>Flemingdon Park, Don Mills South</td>\n    </tr>\n    <tr>\n      <th>28</th>\n      <td>M3H</td>\n      <td>North York</td>\n      <td>Bathurst Manor, Downsview North, Wilson Heights</td>\n    </tr>\n    <tr>\n      <th>29</th>\n      <td>M3J</td>\n      <td>North York</td>\n      <td>Northwood Park, York University</td>\n    </tr>\n  </tbody>\n</table>\n</div>", 
                        "text/plain": "   Postalcode      Borough                                       Neighborhood\n0         M1B  Scarborough                                     Rouge, Malvern\n1         M1C  Scarborough             Highland Creek, Rouge Hill, Port Union\n2         M1E  Scarborough                  Guildwood, Morningside, West Hill\n3         M1G  Scarborough                                             Woburn\n4         M1H  Scarborough                                          Cedarbrae\n5         M1J  Scarborough                                Scarborough Village\n6         M1K  Scarborough        East Birchmount Park, Ionview, Kennedy Park\n7         M1L  Scarborough                    Clairlea, Golden Mile, Oakridge\n8         M1M  Scarborough    Cliffcrest, Cliffside, Scarborough Village West\n9         M1N  Scarborough                        Birch Cliff, Cliffside West\n10        M1P  Scarborough  Dorset Park, Scarborough Town Centre, Wexford ...\n11        M1R  Scarborough                                  Maryvale, Wexford\n12        M1S  Scarborough                                          Agincourt\n13        M1T  Scarborough            Clarks Corners, Sullivan, Tam O'Shanter\n14        M1V  Scarborough  Agincourt North, L'Amoreaux East, Milliken, St...\n15        M1W  Scarborough                      L'Amoreaux West, Steeles West\n16        M1X  Scarborough                                        Upper Rouge\n17        M2H   North York                                  Hillcrest Village\n18        M2J   North York                       Fairview, Henry Farm, Oriole\n19        M2K   North York                                    Bayview Village\n20        M2L   North York                           Silver Hills, York Mills\n21        M2M   North York                            Newtonbrook, Willowdale\n22        M2N   North York                                   Willowdale South\n23        M2P   North York                                    York Mills West\n24        M2R   North York                                    Willowdale West\n25        M3A   North York                                          Parkwoods\n26        M3B   North York                                    Don Mills North\n27        M3C   North York                   Flemingdon Park, Don Mills South\n28        M3H   North York    Bathurst Manor, Downsview North, Wilson Heights\n29        M3J   North York                    Northwood Park, York University"
                    }, 
                    "execution_count": 34, 
                    "metadata": {}
                }
            ], 
            "execution_count": 34
        }, 
        {
            "source": "groupedDF.shape", 
            "cell_type": "code", 
            "metadata": {}, 
            "outputs": [
                {
                    "output_type": "execute_result", 
                    "data": {
                        "text/plain": "(103, 3)"
                    }, 
                    "execution_count": 35, 
                    "metadata": {}
                }
            ], 
            "execution_count": 35
        }
    ], 
    "metadata": {
        "kernelspec": {
            "display_name": "Python 3.5 with Spark", 
            "name": "python3", 
            "language": "python3"
        }, 
        "language_info": {
            "mimetype": "text/x-python", 
            "nbconvert_exporter": "python", 
            "version": "3.5.4", 
            "name": "python", 
            "file_extension": ".py", 
            "pygments_lexer": "ipython3", 
            "codemirror_mode": {
                "version": 3, 
                "name": "ipython"
            }
        }
    }, 
    "nbformat": 4
}