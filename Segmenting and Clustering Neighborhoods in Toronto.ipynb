{
    "nbformat_minor": 1, 
    "cells": [
        {
            "source": "import numpy as np \nimport pandas as pd \npd.set_option('display.max_columns', None)\npd.set_option('display.max_rows', None)\nimport json \nimport requests \nfrom pandas.io.json import json_normalize \nimport matplotlib.cm as cm\nimport matplotlib.colors as colors\nfrom sklearn.cluster import KMeans\nfrom bs4 import BeautifulSoup\nimport requests\nimport csv\n", 
            "cell_type": "code", 
            "metadata": {}, 
            "outputs": [], 
            "execution_count": 22
        }, 
        {
            "source": "source = requests.get('https://en.wikipedia.org/wiki/List_of_postal_codes_of_Canada:_M').text\n\ntsoup = BeautifulSoup(source,'lxml')\n\ntablesoup = tsoup.find('table', class_ = 'wikitable sortable')\n\ntoronto_csv = open('toronto_neighborhood.csv', 'w')\ncsv_writer = csv.writer(toronto_csv)\n\nfor tr in tablesoup.find_all('tr'):\n\n    Postcode = tr.find_all(['td','th'])[0].text\n    Borough = tr.find_all(['td','th'])[1].text\n    Neighbourhood = tr.find_all(['td','th'])[2].text\n    if Borough != 'Not assigned':\n       \n    \n    csv_writer.writerow([Postcode,Borough,Neighbourhood])\n        \ntoronto_csv.close()", 
            "cell_type": "code", 
            "metadata": {}, 
            "outputs": [
                {
                    "output_type": "error", 
                    "evalue": "expected an indented block (<ipython-input-26-41ca79972f34>, line 17)", 
                    "traceback": [
                        "\u001b[0;36m  File \u001b[0;32m\"<ipython-input-26-41ca79972f34>\"\u001b[0;36m, line \u001b[0;32m17\u001b[0m\n\u001b[0;31m    csv_writer.writerow([Postcode,Borough,Neighbourhood])\u001b[0m\n\u001b[0m             ^\u001b[0m\n\u001b[0;31mIndentationError\u001b[0m\u001b[0;31m:\u001b[0m expected an indented block\n"
                    ], 
                    "ename": "IndentationError"
                }
            ], 
            "execution_count": 26
        }, 
        {
            "source": "df_t=pd.read_csv('toronto_neighborhood.csv')", 
            "cell_type": "code", 
            "metadata": {}, 
            "outputs": [], 
            "execution_count": 16
        }, 
        {
            "source": "df_t.head()", 
            "cell_type": "code", 
            "metadata": {}, 
            "outputs": [
                {
                    "output_type": "execute_result", 
                    "data": {
                        "text/html": "<div>\n<style scoped>\n    .dataframe tbody tr th:only-of-type {\n        vertical-align: middle;\n    }\n\n    .dataframe tbody tr th {\n        vertical-align: top;\n    }\n\n    .dataframe thead th {\n        text-align: right;\n    }\n</style>\n<table border=\"1\" class=\"dataframe\">\n  <thead>\n    <tr style=\"text-align: right;\">\n      <th></th>\n      <th>Postcode</th>\n      <th>Borough</th>\n      <th>Neighbourhood</th>\n    </tr>\n  </thead>\n  <tbody>\n    <tr>\n      <th>0</th>\n      <td>M3A</td>\n      <td>North York</td>\n      <td>Parkwoods\\n</td>\n    </tr>\n    <tr>\n      <th>1</th>\n      <td>M4A</td>\n      <td>North York</td>\n      <td>Victoria Village\\n</td>\n    </tr>\n    <tr>\n      <th>2</th>\n      <td>M5A</td>\n      <td>Downtown Toronto</td>\n      <td>Harbourfront\\n</td>\n    </tr>\n    <tr>\n      <th>3</th>\n      <td>M5A</td>\n      <td>Downtown Toronto</td>\n      <td>Regent Park\\n</td>\n    </tr>\n    <tr>\n      <th>4</th>\n      <td>M6A</td>\n      <td>North York</td>\n      <td>Lawrence Heights\\n</td>\n    </tr>\n  </tbody>\n</table>\n</div>", 
                        "text/plain": "  Postcode           Borough     Neighbourhood\\n\n0      M3A        North York         Parkwoods\\n\n1      M4A        North York  Victoria Village\\n\n2      M5A  Downtown Toronto      Harbourfront\\n\n3      M5A  Downtown Toronto       Regent Park\\n\n4      M6A        North York  Lawrence Heights\\n"
                    }, 
                    "execution_count": 17, 
                    "metadata": {}
                }
            ], 
            "execution_count": 17
        }, 
        {
            "source": "df_t = df_t.replace('\\n','', regex=True)\ndf_t.columns=['Postalcode','Borough','Neighborhood']\ndf_t.head()", 
            "cell_type": "code", 
            "metadata": {}, 
            "outputs": [
                {
                    "output_type": "execute_result", 
                    "data": {
                        "text/html": "<div>\n<style scoped>\n    .dataframe tbody tr th:only-of-type {\n        vertical-align: middle;\n    }\n\n    .dataframe tbody tr th {\n        vertical-align: top;\n    }\n\n    .dataframe thead th {\n        text-align: right;\n    }\n</style>\n<table border=\"1\" class=\"dataframe\">\n  <thead>\n    <tr style=\"text-align: right;\">\n      <th></th>\n      <th>Postalcode</th>\n      <th>Borough</th>\n      <th>Neighborhood</th>\n    </tr>\n  </thead>\n  <tbody>\n    <tr>\n      <th>0</th>\n      <td>M3A</td>\n      <td>North York</td>\n      <td>Parkwoods</td>\n    </tr>\n    <tr>\n      <th>1</th>\n      <td>M4A</td>\n      <td>North York</td>\n      <td>Victoria Village</td>\n    </tr>\n    <tr>\n      <th>2</th>\n      <td>M5A</td>\n      <td>Downtown Toronto</td>\n      <td>Harbourfront</td>\n    </tr>\n    <tr>\n      <th>3</th>\n      <td>M5A</td>\n      <td>Downtown Toronto</td>\n      <td>Regent Park</td>\n    </tr>\n    <tr>\n      <th>4</th>\n      <td>M6A</td>\n      <td>North York</td>\n      <td>Lawrence Heights</td>\n    </tr>\n  </tbody>\n</table>\n</div>", 
                        "text/plain": "  Postalcode           Borough      Neighborhood\n0        M3A        North York         Parkwoods\n1        M4A        North York  Victoria Village\n2        M5A  Downtown Toronto      Harbourfront\n3        M5A  Downtown Toronto       Regent Park\n4        M6A        North York  Lawrence Heights"
                    }, 
                    "execution_count": 18, 
                    "metadata": {}
                }
            ], 
            "execution_count": 18
        }, 
        {
            "source": "for index, row in df_t.iterrows():\n    if df_t.loc[index,'Neighborhood'] == 'Not assigned':\n        df_t.loc[index,'Neighborhood'] = df_t.loc[index,'Borough']\n\n# Check to make sure there is no 'Not assigned' in Neighborhood column\ndf_t.loc[df_t['Neighborhood'] == 'Not assigned']", 
            "cell_type": "code", 
            "metadata": {}, 
            "outputs": [
                {
                    "output_type": "execute_result", 
                    "data": {
                        "text/html": "<div>\n<style scoped>\n    .dataframe tbody tr th:only-of-type {\n        vertical-align: middle;\n    }\n\n    .dataframe tbody tr th {\n        vertical-align: top;\n    }\n\n    .dataframe thead th {\n        text-align: right;\n    }\n</style>\n<table border=\"1\" class=\"dataframe\">\n  <thead>\n    <tr style=\"text-align: right;\">\n      <th></th>\n      <th>Postalcode</th>\n      <th>Borough</th>\n      <th>Neighborhood</th>\n    </tr>\n  </thead>\n  <tbody>\n  </tbody>\n</table>\n</div>", 
                        "text/plain": "Empty DataFrame\nColumns: [Postalcode, Borough, Neighborhood]\nIndex: []"
                    }, 
                    "execution_count": 19, 
                    "metadata": {}
                }
            ], 
            "execution_count": 19
        }, 
        {
            "source": "grouped = df_t.groupby(['Postalcode','Borough'])['Neighborhood'].apply(', '.join)\n\ngroupedDF = grouped.to_frame().reset_index()\n\ngroupedDF.head(20)", 
            "cell_type": "code", 
            "metadata": {}, 
            "outputs": [
                {
                    "output_type": "execute_result", 
                    "data": {
                        "text/html": "<div>\n<style scoped>\n    .dataframe tbody tr th:only-of-type {\n        vertical-align: middle;\n    }\n\n    .dataframe tbody tr th {\n        vertical-align: top;\n    }\n\n    .dataframe thead th {\n        text-align: right;\n    }\n</style>\n<table border=\"1\" class=\"dataframe\">\n  <thead>\n    <tr style=\"text-align: right;\">\n      <th></th>\n      <th>Postalcode</th>\n      <th>Borough</th>\n      <th>Neighborhood</th>\n    </tr>\n  </thead>\n  <tbody>\n    <tr>\n      <th>0</th>\n      <td>M1B</td>\n      <td>Scarborough</td>\n      <td>Rouge, Malvern</td>\n    </tr>\n    <tr>\n      <th>1</th>\n      <td>M1C</td>\n      <td>Scarborough</td>\n      <td>Highland Creek, Rouge Hill, Port Union</td>\n    </tr>\n    <tr>\n      <th>2</th>\n      <td>M1E</td>\n      <td>Scarborough</td>\n      <td>Guildwood, Morningside, West Hill</td>\n    </tr>\n    <tr>\n      <th>3</th>\n      <td>M1G</td>\n      <td>Scarborough</td>\n      <td>Woburn</td>\n    </tr>\n    <tr>\n      <th>4</th>\n      <td>M1H</td>\n      <td>Scarborough</td>\n      <td>Cedarbrae</td>\n    </tr>\n    <tr>\n      <th>5</th>\n      <td>M1J</td>\n      <td>Scarborough</td>\n      <td>Scarborough Village</td>\n    </tr>\n    <tr>\n      <th>6</th>\n      <td>M1K</td>\n      <td>Scarborough</td>\n      <td>East Birchmount Park, Ionview, Kennedy Park</td>\n    </tr>\n    <tr>\n      <th>7</th>\n      <td>M1L</td>\n      <td>Scarborough</td>\n      <td>Clairlea, Golden Mile, Oakridge</td>\n    </tr>\n    <tr>\n      <th>8</th>\n      <td>M1M</td>\n      <td>Scarborough</td>\n      <td>Cliffcrest, Cliffside, Scarborough Village West</td>\n    </tr>\n    <tr>\n      <th>9</th>\n      <td>M1N</td>\n      <td>Scarborough</td>\n      <td>Birch Cliff, Cliffside West</td>\n    </tr>\n    <tr>\n      <th>10</th>\n      <td>M1P</td>\n      <td>Scarborough</td>\n      <td>Dorset Park, Scarborough Town Centre, Wexford ...</td>\n    </tr>\n    <tr>\n      <th>11</th>\n      <td>M1R</td>\n      <td>Scarborough</td>\n      <td>Maryvale, Wexford</td>\n    </tr>\n    <tr>\n      <th>12</th>\n      <td>M1S</td>\n      <td>Scarborough</td>\n      <td>Agincourt</td>\n    </tr>\n    <tr>\n      <th>13</th>\n      <td>M1T</td>\n      <td>Scarborough</td>\n      <td>Clarks Corners, Sullivan, Tam O'Shanter</td>\n    </tr>\n    <tr>\n      <th>14</th>\n      <td>M1V</td>\n      <td>Scarborough</td>\n      <td>Agincourt North, L'Amoreaux East, Milliken, St...</td>\n    </tr>\n    <tr>\n      <th>15</th>\n      <td>M1W</td>\n      <td>Scarborough</td>\n      <td>L'Amoreaux West, Steeles West</td>\n    </tr>\n    <tr>\n      <th>16</th>\n      <td>M1X</td>\n      <td>Scarborough</td>\n      <td>Upper Rouge</td>\n    </tr>\n    <tr>\n      <th>17</th>\n      <td>M2H</td>\n      <td>North York</td>\n      <td>Hillcrest Village</td>\n    </tr>\n    <tr>\n      <th>18</th>\n      <td>M2J</td>\n      <td>North York</td>\n      <td>Fairview, Henry Farm, Oriole</td>\n    </tr>\n    <tr>\n      <th>19</th>\n      <td>M2K</td>\n      <td>North York</td>\n      <td>Bayview Village</td>\n    </tr>\n  </tbody>\n</table>\n</div>", 
                        "text/plain": "   Postalcode      Borough                                       Neighborhood\n0         M1B  Scarborough                                     Rouge, Malvern\n1         M1C  Scarborough             Highland Creek, Rouge Hill, Port Union\n2         M1E  Scarborough                  Guildwood, Morningside, West Hill\n3         M1G  Scarborough                                             Woburn\n4         M1H  Scarborough                                          Cedarbrae\n5         M1J  Scarborough                                Scarborough Village\n6         M1K  Scarborough        East Birchmount Park, Ionview, Kennedy Park\n7         M1L  Scarborough                    Clairlea, Golden Mile, Oakridge\n8         M1M  Scarborough    Cliffcrest, Cliffside, Scarborough Village West\n9         M1N  Scarborough                        Birch Cliff, Cliffside West\n10        M1P  Scarborough  Dorset Park, Scarborough Town Centre, Wexford ...\n11        M1R  Scarborough                                  Maryvale, Wexford\n12        M1S  Scarborough                                          Agincourt\n13        M1T  Scarborough            Clarks Corners, Sullivan, Tam O'Shanter\n14        M1V  Scarborough  Agincourt North, L'Amoreaux East, Milliken, St...\n15        M1W  Scarborough                      L'Amoreaux West, Steeles West\n16        M1X  Scarborough                                        Upper Rouge\n17        M2H   North York                                  Hillcrest Village\n18        M2J   North York                       Fairview, Henry Farm, Oriole\n19        M2K   North York                                    Bayview Village"
                    }, 
                    "execution_count": 21, 
                    "metadata": {}
                }
            ], 
            "execution_count": 21
        }
    ], 
    "metadata": {
        "kernelspec": {
            "display_name": "Python 3.5 with Spark", 
            "name": "python3", 
            "language": "python3"
        }, 
        "language_info": {
            "mimetype": "text/x-python", 
            "nbconvert_exporter": "python", 
            "version": "3.5.4", 
            "name": "python", 
            "file_extension": ".py", 
            "pygments_lexer": "ipython3", 
            "codemirror_mode": {
                "version": 3, 
                "name": "ipython"
            }
        }
    }, 
    "nbformat": 4
}